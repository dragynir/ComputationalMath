{
 "cells": [
  {
   "cell_type": "code",
   "execution_count": 82,
   "metadata": {},
   "outputs": [],
   "source": [
    "import math\n",
    "\n",
    "def get_f(a, b, c):\n",
    "    return lambda x: x ** 3 + a * (x ** 2) + b * x + c\n",
    "\n",
    "\n",
    "def find_root(l, r, epsilon, delta, f):\n",
    "        \n",
    "    if l == -float('Inf'):\n",
    "        find_interval = True\n",
    "        l = r - delta\n",
    "        while math.copysign(1, f(l)) * math.copysign(1, f(r)) > 0:\n",
    "            r-=delta\n",
    "            l-=delta       \n",
    "    elif r == float('Inf'):\n",
    "        find_interval = True\n",
    "        r = l + delta\n",
    "        while math.copysign(1, f(l)) * math.copysign(1, f(r)) > 0:\n",
    "            r+=delta\n",
    "            l+=delta\n",
    "            \n",
    "    orent = False        \n",
    "    if f(l) < 0:\n",
    "        orent = True\n",
    "    while True:\n",
    "        m = (l + r) / 2\n",
    "        value = f(m)\n",
    "        if abs(value) < epsilon:\n",
    "            return m\n",
    "        else:\n",
    "            if (value > epsilon) ^ orent:\n",
    "                l = m\n",
    "            else:\n",
    "                r = m\n",
    "            \n",
    "\n",
    "def get_finder(epsilon, delta, f):\n",
    "    return lambda l , r: find_root(l, r, epsilon, delta, f)\n",
    "\n",
    "\n",
    "def cubic(epsilon, delta, a, b, c):\n",
    "    \n",
    "    roots = []\n",
    "    \n",
    "    f = get_f(a, b, c)\n",
    "    \n",
    "    find = get_finder(epsilon, delta, f)\n",
    "    \n",
    "    d =  a ** 2 - 3 * b\n",
    "    \n",
    "    if d <= 0:\n",
    "        value = f(0)\n",
    "        if abs(value) < epsilon:\n",
    "            roots.append(0)\n",
    "        elif value > epsilon:\n",
    "            roots.append(find(-float('Inf'), 0.))\n",
    "        else:\n",
    "            roots.append(find(0, float('Inf')))\n",
    "    else:\n",
    "        sq_d = math.sqrt(d)\n",
    "        alpha = (-a - sq_d) / 3\n",
    "        beta = (-a + sq_d) / 3\n",
    "        \n",
    "        f_a = f(alpha)\n",
    "        f_b = f(beta)\n",
    "        \n",
    "        if abs(f_a) < epsilon and abs(f_b) < epsilon:\n",
    "            roots.append((alpha + beta) / 2)\n",
    "        elif f_a > epsilon and f_b > epsilon:\n",
    "            roots.append(find(-float('Inf'), alpha))\n",
    "        elif f_a < -epsilon and f_b < -epsilon:\n",
    "            roots.append(find(beta , float('Inf')))\n",
    "        elif f_a > epsilon and f_b < -epsilon:\n",
    "            roots.append(find(beta , float('Inf')))\n",
    "            roots.append(find(alpha, beta))\n",
    "            roots.append(find(-float('Inf'), alpha))\n",
    "        elif f_a > epsilon and abs(f_b) < epsilon:\n",
    "            roots.append(find(-float('Inf'), alpha))\n",
    "            roots.append(beta)\n",
    "        elif abs(f_a) < epsilon and f_b < -epsilon:\n",
    "            roots.append(alpha)\n",
    "            roots.append(find(beta, float('Inf')))\n",
    "    \n",
    "    return roots\n"
   ]
  },
  {
   "cell_type": "code",
   "execution_count": 90,
   "metadata": {},
   "outputs": [],
   "source": [
    "import numpy as np\n",
    "import sys\n",
    "#print(\"Enter params (epsilon, delta, a, b, c): \")\n",
    "# -4 -7 +10\n",
    "#params = list(map(float, input().split()))\n",
    "\n",
    "# x ** 3 + a * x ** 2 + b * x + c\n",
    "e = 0.001\n",
    "d = 0.01\n",
    "a = 10\n",
    "b = -2\n",
    "c = -2\n",
    "roots = cubic(e, d, a, b, c)"
   ]
  },
  {
   "cell_type": "code",
   "execution_count": 92,
   "metadata": {},
   "outputs": [
    {
     "name": "stdout",
     "output_type": "stream",
     "text": [
      "[0.5407308803290007, -0.36353669964775187, -10.177202234495592]\n"
     ]
    },
    {
     "data": {
      "image/png": "[encoded data removed]",
      "text/plain": [
       "<Figure size 432x288 with 1 Axes>"
      ]
     },
     "metadata": {
      "needs_background": "light"
     },
     "output_type": "display_data"
    }
   ],
   "source": [
    "import matplotlib.pyplot as plt\n",
    "import numpy as np\n",
    "\n",
    "print(roots)\n",
    "x = np.linspace(-10, 10, 1000)\n",
    "fy = get_f(a, b, c)\n",
    "y = [fy(i) for i in x]\n",
    "\n",
    "plt.axis([-10, 10,-100, 100])\n",
    "plt.plot(np.arange(-10, 11), np.zeros(21))\n",
    "plt.plot(np.zeros(200), np.arange(-100, 100))\n",
    "\n",
    "plt.plot(x, y)\n",
    "\n",
    "# roots maximum , minimem for plot\n",
    "plt.plot(roots, np.zeros(len(roots)), 'ro')\n",
    "plt.show()"
   ]
  },
  {
   "cell_type": "code",
   "execution_count": null,
   "metadata": {},
   "outputs": [],
   "source": []
  }
 ],
 "metadata": {
  "kernelspec": {
   "display_name": "Python 3",
   "language": "python",
   "name": "python3"
  },
  "language_info": {
   "codemirror_mode": {
    "name": "ipython",
    "version": 3
   },
   "file_extension": ".py",
   "mimetype": "text/x-python",
   "name": "python",
   "nbconvert_exporter": "python",
   "pygments_lexer": "ipython3",
   "version": "3.7.3"
  }
 },
 "nbformat": 4,
 "nbformat_minor": 2
}
